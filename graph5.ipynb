{
 "cells": [
  {
   "cell_type": "code",
   "execution_count": 2,
   "id": "d7f70692-6ec7-4b09-8f9b-2b589a5a082c",
   "metadata": {},
   "outputs": [
    {
     "data": {
      "text/plain": [
       "DataTransformerRegistry.enable('vegafusion')"
      ]
     },
     "execution_count": 2,
     "metadata": {},
     "output_type": "execute_result"
    }
   ],
   "source": [
    "import altair as alt\n",
    "import pandas as pd\n",
    "from vega_datasets import data\n",
    "import time\n",
    "import ipywidgets as widgets\n",
    "from ipywidgets import interact\n",
    "import numpy as np\n",
    "\n",
    "dataset = pd.read_csv('./LPD2022_public.csv', encoding='latin-1', dtype={'M_biome': str})\n",
    "\n",
    "alt.data_transformers.enable(\"vegafusion\")"
   ]
  },
  {
   "cell_type": "code",
   "execution_count": 8,
   "id": "256f01aa-a453-4cda-b59d-4c22aad7644e",
   "metadata": {},
   "outputs": [
    {
     "name": "stdout",
     "output_type": "stream",
     "text": [
      "142 71\n",
      "142 142 142\n"
     ]
    }
   ],
   "source": [
    "years = [x for x in range(1950, 2021, 1)]\n",
    "binomials = dataset.loc[:, 'Binomial']\n",
    "populations = []\n",
    "species = []\n",
    "for year in years:\n",
    "    column = dataset.loc[:, str(year)]\n",
    "    populations.append(np.count_nonzero(~np.isnan(column)))\n",
    "    temp = []\n",
    "    species_count = 0\n",
    "    for i in range(len(column)):\n",
    "        if not np.isnan(column[i]):\n",
    "            if binomials[i] not in temp:\n",
    "                temp.append(binomials[i])\n",
    "                species_count += 1\n",
    "    species.append(species_count)\n",
    "\n",
    "data = populations\n",
    "data += species\n",
    "\n",
    "years += years\n",
    "print(len(populations), len(species))\n",
    "label = ['Populations' for x in range(len(species))]\n",
    "label += ['Species' for x in range(len(species))]\n",
    "\n",
    "source = {\n",
    "    'years': years,\n",
    "    'data': data,\n",
    "    'label': label\n",
    "}\n",
    "\n",
    "df = pd.DataFrame.from_records(source)"
   ]
  },
  {
   "cell_type": "code",
   "execution_count": 11,
   "id": "0ad5bac8-eb6b-4189-a215-cc481bb27a20",
   "metadata": {},
   "outputs": [
    {
     "data": {
      "text/html": [
       "\n",
       "<style>\n",
       "  #altair-viz-05206d8e632347eca3c042d92b05d03a.vega-embed {\n",
       "    width: 100%;\n",
       "    display: flex;\n",
       "  }\n",
       "\n",
       "  #altair-viz-05206d8e632347eca3c042d92b05d03a.vega-embed details,\n",
       "  #altair-viz-05206d8e632347eca3c042d92b05d03a.vega-embed details summary {\n",
       "    position: relative;\n",
       "  }\n",
       "</style>\n",
       "<div id=\"altair-viz-05206d8e632347eca3c042d92b05d03a\"></div>\n",
       "<script type=\"text/javascript\">\n",
       "  var VEGA_DEBUG = (typeof VEGA_DEBUG == \"undefined\") ? {} : VEGA_DEBUG;\n",
       "  (function(spec, embedOpt){\n",
       "    let outputDiv = document.currentScript.previousElementSibling;\n",
       "    if (outputDiv.id !== \"altair-viz-05206d8e632347eca3c042d92b05d03a\") {\n",
       "      outputDiv = document.getElementById(\"altair-viz-05206d8e632347eca3c042d92b05d03a\");\n",
       "    }\n",
       "    const paths = {\n",
       "      \"vega\": \"https://cdn.jsdelivr.net/npm/vega@5?noext\",\n",
       "      \"vega-lib\": \"https://cdn.jsdelivr.net/npm/vega-lib?noext\",\n",
       "      \"vega-lite\": \"https://cdn.jsdelivr.net/npm/vega-lite@5.16.3?noext\",\n",
       "      \"vega-embed\": \"https://cdn.jsdelivr.net/npm/vega-embed@6?noext\",\n",
       "    };\n",
       "\n",
       "    function maybeLoadScript(lib, version) {\n",
       "      var key = `${lib.replace(\"-\", \"\")}_version`;\n",
       "      return (VEGA_DEBUG[key] == version) ?\n",
       "        Promise.resolve(paths[lib]) :\n",
       "        new Promise(function(resolve, reject) {\n",
       "          var s = document.createElement('script');\n",
       "          document.getElementsByTagName(\"head\")[0].appendChild(s);\n",
       "          s.async = true;\n",
       "          s.onload = () => {\n",
       "            VEGA_DEBUG[key] = version;\n",
       "            return resolve(paths[lib]);\n",
       "          };\n",
       "          s.onerror = () => reject(`Error loading script: ${paths[lib]}`);\n",
       "          s.src = paths[lib];\n",
       "        });\n",
       "    }\n",
       "\n",
       "    function showError(err) {\n",
       "      outputDiv.innerHTML = `<div class=\"error\" style=\"color:red;\">${err}</div>`;\n",
       "      throw err;\n",
       "    }\n",
       "\n",
       "    function displayChart(vegaEmbed) {\n",
       "      vegaEmbed(outputDiv, spec, embedOpt)\n",
       "        .catch(err => showError(`Javascript Error: ${err.message}<br>This usually means there's a typo in your chart specification. See the javascript console for the full traceback.`));\n",
       "    }\n",
       "\n",
       "    if(typeof define === \"function\" && define.amd) {\n",
       "      requirejs.config({paths});\n",
       "      require([\"vega-embed\"], displayChart, err => showError(`Error loading script: ${err.message}`));\n",
       "    } else {\n",
       "      maybeLoadScript(\"vega\", \"5\")\n",
       "        .then(() => maybeLoadScript(\"vega-lite\", \"5.16.3\"))\n",
       "        .then(() => maybeLoadScript(\"vega-embed\", \"6\"))\n",
       "        .catch(showError)\n",
       "        .then(() => displayChart(vegaEmbed));\n",
       "    }\n",
       "  })({\"$schema\": \"https://vega.github.io/schema/vega/v5.json\", \"data\": [{\"name\": \"source_0\", \"values\": [{\"data\": 258, \"label\": \"Populations\", \"years\": \"1950-01-01T00:00:00.000\"}, {\"data\": 240, \"label\": \"Populations\", \"years\": \"1951-01-01T00:00:00.000\"}, {\"data\": 281, \"label\": \"Populations\", \"years\": \"1952-01-01T00:00:00.000\"}, {\"data\": 277, \"label\": \"Populations\", \"years\": \"1953-01-01T00:00:00.000\"}, {\"data\": 294, \"label\": \"Populations\", \"years\": \"1954-01-01T00:00:00.000\"}, {\"data\": 316, \"label\": \"Populations\", \"years\": \"1955-01-01T00:00:00.000\"}, {\"data\": 365, \"label\": \"Populations\", \"years\": \"1956-01-01T00:00:00.000\"}, {\"data\": 334, \"label\": \"Populations\", \"years\": \"1957-01-01T00:00:00.000\"}, {\"data\": 380, \"label\": \"Populations\", \"years\": \"1958-01-01T00:00:00.000\"}, {\"data\": 425, \"label\": \"Populations\", \"years\": \"1959-01-01T00:00:00.000\"}, {\"data\": 598, \"label\": \"Populations\", \"years\": \"1960-01-01T00:00:00.000\"}, {\"data\": 648, \"label\": \"Populations\", \"years\": \"1961-01-01T00:00:00.000\"}, {\"data\": 660, \"label\": \"Populations\", \"years\": \"1962-01-01T00:00:00.000\"}, {\"data\": 689, \"label\": \"Populations\", \"years\": \"1963-01-01T00:00:00.000\"}, {\"data\": 748, \"label\": \"Populations\", \"years\": \"1964-01-01T00:00:00.000\"}, {\"data\": 857, \"label\": \"Populations\", \"years\": \"1965-01-01T00:00:00.000\"}, {\"data\": 872, \"label\": \"Populations\", \"years\": \"1966-01-01T00:00:00.000\"}, {\"data\": 1036, \"label\": \"Populations\", \"years\": \"1967-01-01T00:00:00.000\"}, {\"data\": 1066, \"label\": \"Populations\", \"years\": \"1968-01-01T00:00:00.000\"}, {\"data\": 1116, \"label\": \"Populations\", \"years\": \"1969-01-01T00:00:00.000\"}, {\"data\": 3457, \"label\": \"Populations\", \"years\": \"1970-01-01T00:00:00.000\"}, {\"data\": 3332, \"label\": \"Populations\", \"years\": \"1971-01-01T00:00:00.000\"}, {\"data\": 3494, \"label\": \"Populations\", \"years\": \"1972-01-01T00:00:00.000\"}, {\"data\": 3890, \"label\": \"Populations\", \"years\": \"1973-01-01T00:00:00.000\"}, {\"data\": 4180, \"label\": \"Populations\", \"years\": \"1974-01-01T00:00:00.000\"}, {\"data\": 4471, \"label\": \"Populations\", \"years\": \"1975-01-01T00:00:00.000\"}, {\"data\": 4449, \"label\": \"Populations\", \"years\": \"1976-01-01T00:00:00.000\"}, {\"data\": 4740, \"label\": \"Populations\", \"years\": \"1977-01-01T00:00:00.000\"}, {\"data\": 4985, \"label\": \"Populations\", \"years\": \"1978-01-01T00:00:00.000\"}, {\"data\": 5125, \"label\": \"Populations\", \"years\": \"1979-01-01T00:00:00.000\"}, {\"data\": 5529, \"label\": \"Populations\", \"years\": \"1980-01-01T00:00:00.000\"}, {\"data\": 5937, \"label\": \"Populations\", \"years\": \"1981-01-01T00:00:00.000\"}, {\"data\": 6014, \"label\": \"Populations\", \"years\": \"1982-01-01T00:00:00.000\"}, {\"data\": 6385, \"label\": \"Populations\", \"years\": \"1983-01-01T00:00:00.000\"}, {\"data\": 6748, \"label\": \"Populations\", \"years\": \"1984-01-01T00:00:00.000\"}, {\"data\": 6964, \"label\": \"Populations\", \"years\": \"1985-01-01T00:00:00.000\"}, {\"data\": 6959, \"label\": \"Populations\", \"years\": \"1986-01-01T00:00:00.000\"}, {\"data\": 7434, \"label\": \"Populations\", \"years\": \"1987-01-01T00:00:00.000\"}, {\"data\": 7298, \"label\": \"Populations\", \"years\": \"1988-01-01T00:00:00.000\"}, {\"data\": 7509, \"label\": \"Populations\", \"years\": \"1989-01-01T00:00:00.000\"}, {\"data\": 8114, \"label\": \"Populations\", \"years\": \"1990-01-01T00:00:00.000\"}, {\"data\": 8201, \"label\": \"Populations\", \"years\": \"1991-01-01T00:00:00.000\"}, {\"data\": 9109, \"label\": \"Populations\", \"years\": \"1992-01-01T00:00:00.000\"}, {\"data\": 9551, \"label\": \"Populations\", \"years\": \"1993-01-01T00:00:00.000\"}, {\"data\": 9682, \"label\": \"Populations\", \"years\": \"1994-01-01T00:00:00.000\"}, {\"data\": 10151, \"label\": \"Populations\", \"years\": \"1995-01-01T00:00:00.000\"}, {\"data\": 9600, \"label\": \"Populations\", \"years\": \"1996-01-01T00:00:00.000\"}, {\"data\": 10598, \"label\": \"Populations\", \"years\": \"1997-01-01T00:00:00.000\"}, {\"data\": 10540, \"label\": \"Populations\", \"years\": \"1998-01-01T00:00:00.000\"}, {\"data\": 10163, \"label\": \"Populations\", \"years\": \"1999-01-01T00:00:00.000\"}, {\"data\": 10868, \"label\": \"Populations\", \"years\": \"2000-01-01T00:00:00.000\"}, {\"data\": 10450, \"label\": \"Populations\", \"years\": \"2001-01-01T00:00:00.000\"}, {\"data\": 10650, \"label\": \"Populations\", \"years\": \"2002-01-01T00:00:00.000\"}, {\"data\": 10358, \"label\": \"Populations\", \"years\": \"2003-01-01T00:00:00.000\"}, {\"data\": 10286, \"label\": \"Populations\", \"years\": \"2004-01-01T00:00:00.000\"}, {\"data\": 10553, \"label\": \"Populations\", \"years\": \"2005-01-01T00:00:00.000\"}, {\"data\": 9867, \"label\": \"Populations\", \"years\": \"2006-01-01T00:00:00.000\"}, {\"data\": 9569, \"label\": \"Populations\", \"years\": \"2007-01-01T00:00:00.000\"}, {\"data\": 9810, \"label\": \"Populations\", \"years\": \"2008-01-01T00:00:00.000\"}, {\"data\": 9895, \"label\": \"Populations\", \"years\": \"2009-01-01T00:00:00.000\"}, {\"data\": 11106, \"label\": \"Populations\", \"years\": \"2010-01-01T00:00:00.000\"}, {\"data\": 11564, \"label\": \"Populations\", \"years\": \"2011-01-01T00:00:00.000\"}, {\"data\": 10749, \"label\": \"Populations\", \"years\": \"2012-01-01T00:00:00.000\"}, {\"data\": 9776, \"label\": \"Populations\", \"years\": \"2013-01-01T00:00:00.000\"}, {\"data\": 9822, \"label\": \"Populations\", \"years\": \"2014-01-01T00:00:00.000\"}, {\"data\": 7008, \"label\": \"Populations\", \"years\": \"2015-01-01T00:00:00.000\"}, {\"data\": 6518, \"label\": \"Populations\", \"years\": \"2016-01-01T00:00:00.000\"}, {\"data\": 5400, \"label\": \"Populations\", \"years\": \"2017-01-01T00:00:00.000\"}, {\"data\": 2428, \"label\": \"Populations\", \"years\": \"2018-01-01T00:00:00.000\"}, {\"data\": 2159, \"label\": \"Populations\", \"years\": \"2019-01-01T00:00:00.000\"}, {\"data\": 1139, \"label\": \"Populations\", \"years\": \"2020-01-01T00:00:00.000\"}, {\"data\": 166, \"label\": \"Species\", \"years\": \"1950-01-01T00:00:00.000\"}, {\"data\": 149, \"label\": \"Species\", \"years\": \"1951-01-01T00:00:00.000\"}, {\"data\": 169, \"label\": \"Species\", \"years\": \"1952-01-01T00:00:00.000\"}, {\"data\": 171, \"label\": \"Species\", \"years\": \"1953-01-01T00:00:00.000\"}, {\"data\": 181, \"label\": \"Species\", \"years\": \"1954-01-01T00:00:00.000\"}, {\"data\": 192, \"label\": \"Species\", \"years\": \"1955-01-01T00:00:00.000\"}, {\"data\": 216, \"label\": \"Species\", \"years\": \"1956-01-01T00:00:00.000\"}, {\"data\": 191, \"label\": \"Species\", \"years\": \"1957-01-01T00:00:00.000\"}, {\"data\": 227, \"label\": \"Species\", \"years\": \"1958-01-01T00:00:00.000\"}, {\"data\": 255, \"label\": \"Species\", \"years\": \"1959-01-01T00:00:00.000\"}, {\"data\": 314, \"label\": \"Species\", \"years\": \"1960-01-01T00:00:00.000\"}, {\"data\": 320, \"label\": \"Species\", \"years\": \"1961-01-01T00:00:00.000\"}, {\"data\": 347, \"label\": \"Species\", \"years\": \"1962-01-01T00:00:00.000\"}, {\"data\": 359, \"label\": \"Species\", \"years\": \"1963-01-01T00:00:00.000\"}, {\"data\": 366, \"label\": \"Species\", \"years\": \"1964-01-01T00:00:00.000\"}, {\"data\": 412, \"label\": \"Species\", \"years\": \"1965-01-01T00:00:00.000\"}, {\"data\": 417, \"label\": \"Species\", \"years\": \"1966-01-01T00:00:00.000\"}, {\"data\": 503, \"label\": \"Species\", \"years\": \"1967-01-01T00:00:00.000\"}, {\"data\": 490, \"label\": \"Species\", \"years\": \"1968-01-01T00:00:00.000\"}, {\"data\": 519, \"label\": \"Species\", \"years\": \"1969-01-01T00:00:00.000\"}, {\"data\": 899, \"label\": \"Species\", \"years\": \"1970-01-01T00:00:00.000\"}, {\"data\": 879, \"label\": \"Species\", \"years\": \"1971-01-01T00:00:00.000\"}, {\"data\": 902, \"label\": \"Species\", \"years\": \"1972-01-01T00:00:00.000\"}, {\"data\": 959, \"label\": \"Species\", \"years\": \"1973-01-01T00:00:00.000\"}, {\"data\": 1029, \"label\": \"Species\", \"years\": \"1974-01-01T00:00:00.000\"}, {\"data\": 1091, \"label\": \"Species\", \"years\": \"1975-01-01T00:00:00.000\"}, {\"data\": 1117, \"label\": \"Species\", \"years\": \"1976-01-01T00:00:00.000\"}, {\"data\": 1145, \"label\": \"Species\", \"years\": \"1977-01-01T00:00:00.000\"}, {\"data\": 1197, \"label\": \"Species\", \"years\": \"1978-01-01T00:00:00.000\"}, {\"data\": 1243, \"label\": \"Species\", \"years\": \"1979-01-01T00:00:00.000\"}, {\"data\": 1306, \"label\": \"Species\", \"years\": \"1980-01-01T00:00:00.000\"}, {\"data\": 1311, \"label\": \"Species\", \"years\": \"1981-01-01T00:00:00.000\"}, {\"data\": 1346, \"label\": \"Species\", \"years\": \"1982-01-01T00:00:00.000\"}, {\"data\": 1379, \"label\": \"Species\", \"years\": \"1983-01-01T00:00:00.000\"}, {\"data\": 1415, \"label\": \"Species\", \"years\": \"1984-01-01T00:00:00.000\"}, {\"data\": 1471, \"label\": \"Species\", \"years\": \"1985-01-01T00:00:00.000\"}, {\"data\": 1488, \"label\": \"Species\", \"years\": \"1986-01-01T00:00:00.000\"}, {\"data\": 1678, \"label\": \"Species\", \"years\": \"1987-01-01T00:00:00.000\"}, {\"data\": 1534, \"label\": \"Species\", \"years\": \"1988-01-01T00:00:00.000\"}, {\"data\": 1603, \"label\": \"Species\", \"years\": \"1989-01-01T00:00:00.000\"}, {\"data\": 1625, \"label\": \"Species\", \"years\": \"1990-01-01T00:00:00.000\"}, {\"data\": 1725, \"label\": \"Species\", \"years\": \"1991-01-01T00:00:00.000\"}, {\"data\": 2012, \"label\": \"Species\", \"years\": \"1992-01-01T00:00:00.000\"}, {\"data\": 1832, \"label\": \"Species\", \"years\": \"1993-01-01T00:00:00.000\"}, {\"data\": 1867, \"label\": \"Species\", \"years\": \"1994-01-01T00:00:00.000\"}, {\"data\": 1983, \"label\": \"Species\", \"years\": \"1995-01-01T00:00:00.000\"}, {\"data\": 1931, \"label\": \"Species\", \"years\": \"1996-01-01T00:00:00.000\"}, {\"data\": 2208, \"label\": \"Species\", \"years\": \"1997-01-01T00:00:00.000\"}, {\"data\": 2128, \"label\": \"Species\", \"years\": \"1998-01-01T00:00:00.000\"}, {\"data\": 2037, \"label\": \"Species\", \"years\": \"1999-01-01T00:00:00.000\"}, {\"data\": 2255, \"label\": \"Species\", \"years\": \"2000-01-01T00:00:00.000\"}, {\"data\": 2227, \"label\": \"Species\", \"years\": \"2001-01-01T00:00:00.000\"}, {\"data\": 2161, \"label\": \"Species\", \"years\": \"2002-01-01T00:00:00.000\"}, {\"data\": 2186, \"label\": \"Species\", \"years\": \"2003-01-01T00:00:00.000\"}, {\"data\": 2217, \"label\": \"Species\", \"years\": \"2004-01-01T00:00:00.000\"}, {\"data\": 2297, \"label\": \"Species\", \"years\": \"2005-01-01T00:00:00.000\"}, {\"data\": 2010, \"label\": \"Species\", \"years\": \"2006-01-01T00:00:00.000\"}, {\"data\": 1930, \"label\": \"Species\", \"years\": \"2007-01-01T00:00:00.000\"}, {\"data\": 1873, \"label\": \"Species\", \"years\": \"2008-01-01T00:00:00.000\"}, {\"data\": 1844, \"label\": \"Species\", \"years\": \"2009-01-01T00:00:00.000\"}, {\"data\": 2021, \"label\": \"Species\", \"years\": \"2010-01-01T00:00:00.000\"}, {\"data\": 1972, \"label\": \"Species\", \"years\": \"2011-01-01T00:00:00.000\"}, {\"data\": 1874, \"label\": \"Species\", \"years\": \"2012-01-01T00:00:00.000\"}, {\"data\": 1592, \"label\": \"Species\", \"years\": \"2013-01-01T00:00:00.000\"}, {\"data\": 1503, \"label\": \"Species\", \"years\": \"2014-01-01T00:00:00.000\"}, {\"data\": 1143, \"label\": \"Species\", \"years\": \"2015-01-01T00:00:00.000\"}, {\"data\": 1069, \"label\": \"Species\", \"years\": \"2016-01-01T00:00:00.000\"}, {\"data\": 721, \"label\": \"Species\", \"years\": \"2017-01-01T00:00:00.000\"}, {\"data\": 597, \"label\": \"Species\", \"years\": \"2018-01-01T00:00:00.000\"}, {\"data\": 499, \"label\": \"Species\", \"years\": \"2019-01-01T00:00:00.000\"}, {\"data\": 280, \"label\": \"Species\", \"years\": \"2020-01-01T00:00:00.000\"}], \"transform\": [{\"type\": \"formula\", \"expr\": \"toDate(datum['years'])\", \"as\": \"years\"}]}, {\"name\": \"source_0_y_domain_data\", \"values\": [{\"min\": 149, \"max\": 11564}]}, {\"name\": \"source_0_color_domain_label\", \"values\": [{\"label\": \"Populations\"}, {\"label\": \"Species\"}]}], \"marks\": [{\"type\": \"group\", \"name\": \"pathgroup\", \"from\": {\"facet\": {\"data\": \"source_0\", \"name\": \"faceted_path_main\", \"groupby\": [\"label\"]}}, \"encode\": {\"update\": {\"width\": {\"field\": {\"signal\": null, \"datum\": null, \"group\": \"width\", \"parent\": null}}, \"height\": {\"field\": {\"signal\": null, \"datum\": null, \"group\": \"height\", \"parent\": null}}}}, \"marks\": [{\"type\": \"line\", \"name\": \"marks\", \"from\": {\"data\": \"faceted_path_main\"}, \"sort\": {\"field\": \"datum[\\\"years\\\"]\"}, \"encode\": {\"update\": {\"stroke\": {\"field\": \"label\", \"scale\": \"color\"}, \"x\": {\"field\": \"years\", \"scale\": \"x\"}, \"y\": {\"field\": \"data\", \"scale\": \"y\"}, \"defined\": {\"signal\": \"isValid(datum[\\\"years\\\"]) && isFinite(+datum[\\\"years\\\"]) && isValid(datum[\\\"data\\\"]) && isFinite(+datum[\\\"data\\\"])\"}}}, \"style\": [\"line\"]}]}], \"scales\": [{\"name\": \"x\", \"type\": \"time\", \"domain\": {\"data\": \"source_0\", \"field\": \"years\"}, \"range\": [0, {\"signal\": \"width\"}]}, {\"name\": \"y\", \"type\": \"linear\", \"domain\": [{\"signal\": \"(data(\\\"source_0_y_domain_data\\\")[0] || {}).min\"}, {\"signal\": \"(data(\\\"source_0_y_domain_data\\\")[0] || {}).max\"}], \"range\": [{\"signal\": \"height\"}, 0], \"nice\": true, \"zero\": true}, {\"name\": \"color\", \"type\": \"ordinal\", \"domain\": {\"data\": \"source_0_color_domain_label\", \"field\": \"label\", \"sort\": true}, \"range\": \"category\"}], \"axes\": [{\"scale\": \"x\", \"ticks\": false, \"zindex\": 0, \"grid\": true, \"domain\": false, \"maxExtent\": 0, \"tickCount\": {\"signal\": \"ceil(width/40)\"}, \"labels\": false, \"gridScale\": \"y\", \"aria\": false, \"orient\": \"bottom\", \"minExtent\": 0}, {\"scale\": \"y\", \"grid\": true, \"aria\": false, \"orient\": \"left\", \"zindex\": 0, \"labels\": false, \"gridScale\": \"x\", \"maxExtent\": 0, \"minExtent\": 0, \"ticks\": false, \"tickCount\": {\"signal\": \"ceil(height/40)\"}, \"domain\": false}, {\"scale\": \"x\", \"tickCount\": {\"signal\": \"ceil(width/40)\"}, \"grid\": false, \"orient\": \"bottom\", \"labelFlush\": true, \"zindex\": 0, \"title\": \"years\", \"labelOverlap\": true}, {\"scale\": \"y\", \"zindex\": 0, \"title\": \"number\", \"tickCount\": {\"signal\": \"ceil(height/40)\"}, \"labelOverlap\": true, \"orient\": \"left\", \"grid\": false}], \"width\": 300, \"height\": 300, \"padding\": 5, \"background\": \"white\", \"legends\": [{\"stroke\": \"color\", \"symbolType\": \"stroke\", \"title\": \"label\"}], \"style\": \"cell\"}, {\"mode\": \"vega\"});\n",
       "</script>"
      ],
      "text/plain": [
       "alt.Chart(...)"
      ]
     },
     "execution_count": 11,
     "metadata": {},
     "output_type": "execute_result"
    }
   ],
   "source": [
    "alt.Chart(df).mark_line().encode(\n",
    "    alt.X('years:T'),\n",
    "    y=alt.Y('data:Q', title='number'),\n",
    "    color = 'label:N'\n",
    ")"
   ]
  }
 ],
 "metadata": {
  "kernelspec": {
   "display_name": "Python 3 (ipykernel)",
   "language": "python",
   "name": "python3"
  },
  "language_info": {
   "codemirror_mode": {
    "name": "ipython",
    "version": 3
   },
   "file_extension": ".py",
   "mimetype": "text/x-python",
   "name": "python",
   "nbconvert_exporter": "python",
   "pygments_lexer": "ipython3",
   "version": "3.11.2"
  }
 },
 "nbformat": 4,
 "nbformat_minor": 5
}
