{
 "cells": [
  {
   "cell_type": "code",
   "execution_count": 1,
   "id": "077a1bd4-c263-4a20-9c40-4d6e922ba017",
   "metadata": {},
   "outputs": [
    {
     "data": {
      "text/plain": [
       "DataTransformerRegistry.enable('vegafusion')"
      ]
     },
     "execution_count": 1,
     "metadata": {},
     "output_type": "execute_result"
    }
   ],
   "source": [
    "import altair as alt\n",
    "import pandas as pd\n",
    "from vega_datasets import data\n",
    "import time\n",
    "import ipywidgets as widgets\n",
    "from ipywidgets import interact\n",
    "#from IPython.display import display\n",
    "#alt.themes.enable('opaque')\n",
    "\n",
    "dataset = pd.read_csv('./LPD2022_public.csv', encoding='latin-1', dtype={'M_biome': str})\n",
    "\n",
    "countries = alt.topo_feature(data.world_110m.url, 'countries')\n",
    "\n",
    "alt.data_transformers.enable(\"vegafusion\")"
   ]
  },
  {
   "cell_type": "code",
   "execution_count": 3,
   "id": "a9193280-a5a0-48e4-aae8-f5852f73b2bf",
   "metadata": {},
   "outputs": [
    {
     "data": {
      "application/vnd.jupyter.widget-view+json": {
       "model_id": "f39936fcb6ba4ff7bebcce0a51ca05a8",
       "version_major": 2,
       "version_minor": 0
      },
      "text/plain": [
       "interactive(children=(IntSlider(value=1950, continuous_update=False, description='Year:', max=2020, min=1950),…"
      ]
     },
     "metadata": {},
     "output_type": "display_data"
    },
    {
     "data": {
      "text/plain": [
       "<function __main__.demo(i)>"
      ]
     },
     "execution_count": 3,
     "metadata": {},
     "output_type": "execute_result"
    }
   ],
   "source": [
    "background = alt.Chart(countries).mark_geoshape(\n",
    "    fill='lightgray',\n",
    "    stroke='white'\n",
    ").project(\n",
    "    \"equirectangular\"\n",
    ").properties(\n",
    "    width=500,\n",
    "    height=300\n",
    ")\n",
    "\n",
    "slider = alt.binding_range(min=1950, max=2020, step=1, name='Year:')\n",
    "year = alt.param(value=1950, bind=slider)\n",
    "\n",
    "options = ['Actinopteri', 'Amphibia', 'Aves', 'Dipneusti', 'Elasmobranchii', 'Holocephali', 'Mammalia', 'Myxini', 'Petromyzonti', 'Repitalia']\n",
    "labels = [option + ' ' for option in options]\n",
    "\n",
    "input_dropdown = alt.binding_radio(\n",
    "    options=options + [None],\n",
    "    labels=labels + ['All'],\n",
    "    name='Class: '\n",
    ")\n",
    "\n",
    "selection = alt.selection_point(\n",
    "    fields=['Class'],\n",
    "    bind=input_dropdown,\n",
    ")\n",
    "\n",
    "def demo(i):\n",
    "    variable = str(i) + \":Q\"\n",
    "\n",
    "    map = alt.Chart(dataset).mark_circle().encode(\n",
    "        longitude='Longitude:Q',\n",
    "        latitude='Latitude:Q',\n",
    "        color = alt.Color('Class:N').scale(domain=options),\n",
    "        size=variable,\n",
    "        tooltip=['Common_name', variable]\n",
    "    ).add_params(\n",
    "        selection\n",
    "    ).transform_filter(\n",
    "        selection\n",
    "    )\n",
    "\n",
    "    bars = alt.Chart(dataset).mark_bar().encode(\n",
    "        x=variable,\n",
    "        y=alt.Y('Class:N').sort('-x'),\n",
    "        color = alt.Color('Class:N').scale(domain=options),\n",
    "        tooltip=['Common_name', variable]\n",
    "    ).add_params(\n",
    "        selection\n",
    "    ).transform_filter(\n",
    "        selection\n",
    "    )\n",
    "    return alt.hconcat(background + map, bars)\n",
    "\n",
    "interact(demo, i = widgets.IntSlider(\n",
    "    value=1950,\n",
    "    min=1950,\n",
    "    max=2020,\n",
    "    step=1,\n",
    "    description='Year:',\n",
    "    disabled=False,\n",
    "    continuous_update=False,\n",
    "    orientation='horizontal',\n",
    "    readout=True,\n",
    "    readout_format='d'\n",
    "))"
   ]
  }
 ],
 "metadata": {
  "kernelspec": {
   "display_name": "Python 3 (ipykernel)",
   "language": "python",
   "name": "python3"
  },
  "language_info": {
   "codemirror_mode": {
    "name": "ipython",
    "version": 3
   },
   "file_extension": ".py",
   "mimetype": "text/x-python",
   "name": "python",
   "nbconvert_exporter": "python",
   "pygments_lexer": "ipython3",
   "version": "3.11.2"
  },
  "widgets": {
   "application/vnd.jupyter.widget-state+json": {
    "state": {
     "010e119e84724cc3be78a5545c30a423": {
      "model_module": "@jupyter-widgets/base",
      "model_module_version": "2.0.0",
      "model_name": "LayoutModel",
      "state": {}
     },
     "16bd573c4fc1414580703d8bb90587b7": {
      "model_module": "@jupyter-widgets/controls",
      "model_module_version": "2.0.0",
      "model_name": "IntSliderModel",
      "state": {
       "behavior": "drag-tap",
       "continuous_update": false,
       "description": "Year:",
       "layout": "IPY_MODEL_ca5b163503984c09946d439d09169757",
       "max": 2020,
       "min": 1950,
       "style": "IPY_MODEL_b825bc1911624690b91db93ca652cfa4",
       "value": 1950
      }
     },
     "6590e7cd07cd4b0ab375e9a01dc4c869": {
      "model_module": "@jupyter-widgets/output",
      "model_module_version": "1.0.0",
      "model_name": "OutputModel",
      "state": {
       "layout": "IPY_MODEL_010e119e84724cc3be78a5545c30a423",
       "msg_id": "9f909d32-b819-4b5d-a4e3-f1aad885ef03"
      }
     },
     "86ef1ccadcaf4dae8ba9e8ace68b28b9": {
      "model_module": "@jupyter-widgets/base",
      "model_module_version": "2.0.0",
      "model_name": "LayoutModel",
      "state": {}
     },
     "96733f77589742d6918037fddcd98e4e": {
      "model_module": "@jupyter-widgets/base",
      "model_module_version": "2.0.0",
      "model_name": "LayoutModel",
      "state": {}
     },
     "a14911318b9a4d3583c70aedef58c4fa": {
      "model_module": "@jupyter-widgets/controls",
      "model_module_version": "2.0.0",
      "model_name": "SliderStyleModel",
      "state": {
       "description_width": ""
      }
     },
     "a33dbf5b34df47698e3a49b090778f66": {
      "model_module": "@jupyter-widgets/base",
      "model_module_version": "2.0.0",
      "model_name": "LayoutModel",
      "state": {}
     },
     "b825bc1911624690b91db93ca652cfa4": {
      "model_module": "@jupyter-widgets/controls",
      "model_module_version": "2.0.0",
      "model_name": "SliderStyleModel",
      "state": {
       "description_width": ""
      }
     },
     "ca5b163503984c09946d439d09169757": {
      "model_module": "@jupyter-widgets/base",
      "model_module_version": "2.0.0",
      "model_name": "LayoutModel",
      "state": {}
     },
     "df87bbaafa334ffe9fadd9031e0bc23b": {
      "model_module": "@jupyter-widgets/base",
      "model_module_version": "2.0.0",
      "model_name": "LayoutModel",
      "state": {}
     },
     "e1cc489d25ee42659335dd74125c5901": {
      "model_module": "@jupyter-widgets/controls",
      "model_module_version": "2.0.0",
      "model_name": "VBoxModel",
      "state": {
       "_dom_classes": [
        "widget-interact"
       ],
       "children": [
        "IPY_MODEL_16bd573c4fc1414580703d8bb90587b7",
        "IPY_MODEL_ebdb5bfa585e4e76b1ae9e7ac709a58d"
       ],
       "layout": "IPY_MODEL_df87bbaafa334ffe9fadd9031e0bc23b"
      }
     },
     "ebdb5bfa585e4e76b1ae9e7ac709a58d": {
      "model_module": "@jupyter-widgets/output",
      "model_module_version": "1.0.0",
      "model_name": "OutputModel",
      "state": {
       "layout": "IPY_MODEL_96733f77589742d6918037fddcd98e4e"
      }
     },
     "f39936fcb6ba4ff7bebcce0a51ca05a8": {
      "model_module": "@jupyter-widgets/controls",
      "model_module_version": "2.0.0",
      "model_name": "VBoxModel",
      "state": {
       "_dom_classes": [
        "widget-interact"
       ],
       "children": [
        "IPY_MODEL_fc1acd3a5daa435d87cd037a83d2d711",
        "IPY_MODEL_6590e7cd07cd4b0ab375e9a01dc4c869"
       ],
       "layout": "IPY_MODEL_a33dbf5b34df47698e3a49b090778f66"
      }
     },
     "fc1acd3a5daa435d87cd037a83d2d711": {
      "model_module": "@jupyter-widgets/controls",
      "model_module_version": "2.0.0",
      "model_name": "IntSliderModel",
      "state": {
       "behavior": "drag-tap",
       "continuous_update": false,
       "description": "Year:",
       "layout": "IPY_MODEL_86ef1ccadcaf4dae8ba9e8ace68b28b9",
       "max": 2020,
       "min": 1950,
       "style": "IPY_MODEL_a14911318b9a4d3583c70aedef58c4fa",
       "value": 1970
      }
     }
    },
    "version_major": 2,
    "version_minor": 0
   }
  }
 },
 "nbformat": 4,
 "nbformat_minor": 5
}
