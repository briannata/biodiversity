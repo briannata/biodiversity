{
 "cells": [
  {
   "cell_type": "code",
   "execution_count": 1,
   "id": "d7f70692-6ec7-4b09-8f9b-2b589a5a082c",
   "metadata": {},
   "outputs": [
    {
     "data": {
      "text/plain": [
       "DataTransformerRegistry.enable('vegafusion')"
      ]
     },
     "execution_count": 1,
     "metadata": {},
     "output_type": "execute_result"
    }
   ],
   "source": [
    "import altair as alt\n",
    "import pandas as pd\n",
    "from vega_datasets import data\n",
    "import time\n",
    "import ipywidgets as widgets\n",
    "from ipywidgets import interact\n",
    "import numpy as np\n",
    "\n",
    "dataset = pd.read_csv('./LPD2022_public.csv', encoding='latin-1', dtype={'M_biome': str})\n",
    "\n",
    "alt.data_transformers.enable(\"vegafusion\")"
   ]
  },
  {
   "cell_type": "code",
   "execution_count": 2,
   "id": "256f01aa-a453-4cda-b59d-4c22aad7644e",
   "metadata": {},
   "outputs": [
    {
     "name": "stdout",
     "output_type": "stream",
     "text": [
      "142 71\n"
     ]
    }
   ],
   "source": [
    "years = [x for x in range(1950, 2021, 1)]\n",
    "binomials = dataset.loc[:, 'Binomial']\n",
    "populations = []\n",
    "species = []\n",
    "for year in years:\n",
    "    column = dataset.loc[:, str(year)]\n",
    "    populations.append(np.count_nonzero(~np.isnan(column)))\n",
    "    temp = []\n",
    "    species_count = 0\n",
    "    for i in range(len(column)):\n",
    "        if not np.isnan(column[i]):\n",
    "            if binomials[i] not in temp:\n",
    "                temp.append(binomials[i])\n",
    "                species_count += 1\n",
    "    species.append(species_count)\n",
    "\n",
    "data = populations\n",
    "data += species\n",
    "\n",
    "years += years\n",
    "print(len(populations), len(species))\n",
    "label = ['Populations' for x in range(len(species))]\n",
    "label += ['Species' for x in range(len(species))]\n",
    "\n",
    "source = {\n",
    "    'years': years,\n",
    "    'data': data,\n",
    "    'label': label\n",
    "}\n",
    "\n",
    "df = pd.DataFrame.from_records(source)"
   ]
  },
  {
   "cell_type": "code",
   "execution_count": 4,
   "id": "0ad5bac8-eb6b-4189-a215-cc481bb27a20",
   "metadata": {},
   "outputs": [],
   "source": [
    "chart = alt.Chart(df).mark_line(point=True).encode(\n",
    "    alt.X('years:T'),\n",
    "    y=alt.Y('data:Q', title='number'),\n",
    "    color = 'label:N',\n",
    "    tooltip = ['years:T', 'data:Q']\n",
    ").interactive()\n",
    "\n",
    "chart.save('graph5.html')"
   ]
  }
 ],
 "metadata": {
  "kernelspec": {
   "display_name": "Python 3 (ipykernel)",
   "language": "python",
   "name": "python3"
  },
  "language_info": {
   "codemirror_mode": {
    "name": "ipython",
    "version": 3
   },
   "file_extension": ".py",
   "mimetype": "text/x-python",
   "name": "python",
   "nbconvert_exporter": "python",
   "pygments_lexer": "ipython3",
   "version": "3.11.2"
  },
  "widgets": {
   "application/vnd.jupyter.widget-state+json": {
    "state": {},
    "version_major": 2,
    "version_minor": 0
   }
  }
 },
 "nbformat": 4,
 "nbformat_minor": 5
}
