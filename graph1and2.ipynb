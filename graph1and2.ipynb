{
 "cells": [
  {
   "cell_type": "code",
   "execution_count": 1,
   "id": "077a1bd4-c263-4a20-9c40-4d6e922ba017",
   "metadata": {},
   "outputs": [
    {
     "data": {
      "text/plain": [
       "DataTransformerRegistry.enable('vegafusion')"
      ]
     },
     "execution_count": 1,
     "metadata": {},
     "output_type": "execute_result"
    }
   ],
   "source": [
    "import altair as alt\n",
    "import pandas as pd\n",
    "from vega_datasets import data\n",
    "import time\n",
    "import ipywidgets as widgets\n",
    "from ipywidgets import interact\n",
    "#from IPython.display import display\n",
    "#alt.themes.enable('opaque')\n",
    "\n",
    "dataset = pd.read_csv('./LPD2022_public.csv', encoding='latin-1', dtype={'M_biome': str})\n",
    "\n",
    "countries = alt.topo_feature(data.world_110m.url, 'countries')\n",
    "\n",
    "alt.data_transformers.enable(\"vegafusion\")"
   ]
  },
  {
   "cell_type": "code",
   "execution_count": 12,
   "id": "a9193280-a5a0-48e4-aae8-f5852f73b2bf",
   "metadata": {},
   "outputs": [
    {
     "data": {
      "application/vnd.jupyter.widget-view+json": {
       "model_id": "9e4d5d4712494ef8a151dc7d4e8f4819",
       "version_major": 2,
       "version_minor": 0
      },
      "text/plain": [
       "interactive(children=(IntSlider(value=1950, continuous_update=False, description='Year:', max=2020, min=1950),…"
      ]
     },
     "metadata": {},
     "output_type": "display_data"
    },
    {
     "data": {
      "text/plain": [
       "<function __main__.demo(i)>"
      ]
     },
     "execution_count": 12,
     "metadata": {},
     "output_type": "execute_result"
    }
   ],
   "source": [
    "background = alt.Chart(countries).mark_geoshape(\n",
    "    fill='lightgray',\n",
    "    stroke='white'\n",
    ").project(\n",
    "    \"equirectangular\"\n",
    ").properties(\n",
    "    width=500,\n",
    "    height=300\n",
    ")\n",
    "\n",
    "slider = alt.binding_range(min=1950, max=2020, step=1, name='Year:')\n",
    "year = alt.param(value=1950, bind=slider)\n",
    "\n",
    "options = ['Actinopteri', 'Amphibia', 'Aves', 'Dipneusti', 'Elasmobranchii', 'Holocephali', 'Mammalia', 'Myxini', 'Petromyzonti', 'Repitalia']\n",
    "labels = [option + ' ' for option in options]\n",
    "\n",
    "input_dropdown = alt.binding_radio(\n",
    "    options=options + [None],\n",
    "    labels=labels + ['All'],\n",
    "    name='Class: '\n",
    ")\n",
    "\n",
    "selection = alt.selection_point(\n",
    "    fields=['Class'],\n",
    "    bind=input_dropdown,\n",
    ")\n",
    "\n",
    "def demo(i):\n",
    "    variable = str(i) + \":Q\"\n",
    "\n",
    "    map = alt.Chart(dataset).mark_circle().encode(\n",
    "        longitude='Longitude:Q',\n",
    "        latitude='Latitude:Q',\n",
    "        color = alt.Color('Class:N').scale(domain=options),\n",
    "        size=variable,\n",
    "        tooltip=['Common_name', variable]\n",
    "    ).add_params(\n",
    "        selection\n",
    "    ).transform_filter(\n",
    "        selection\n",
    "    )\n",
    "\n",
    "    bars = alt.Chart(dataset).mark_bar().encode(\n",
    "        x=variable,\n",
    "        y=alt.Y('Class:N').sort('-x'),\n",
    "        color = alt.Color('Class:N').scale(domain=options),\n",
    "        tooltip=['Common_name', variable]\n",
    "    ).add_params(\n",
    "        selection\n",
    "    ).transform_filter(\n",
    "        selection\n",
    "    )\n",
    "    return alt.hconcat(background + map, bars)\n",
    "\n",
    "interact(demo, i = widgets.IntSlider(\n",
    "    value=1950,\n",
    "    min=1950,\n",
    "    max=2020,\n",
    "    step=1,\n",
    "    description='Year:',\n",
    "    disabled=False,\n",
    "    continuous_update=False,\n",
    "    orientation='horizontal',\n",
    "    readout=True,\n",
    "    readout_format='d'\n",
    "))"
   ]
  }
 ],
 "metadata": {
  "kernelspec": {
   "display_name": "Python 3 (ipykernel)",
   "language": "python",
   "name": "python3"
  },
  "language_info": {
   "codemirror_mode": {
    "name": "ipython",
    "version": 3
   },
   "file_extension": ".py",
   "mimetype": "text/x-python",
   "name": "python",
   "nbconvert_exporter": "python",
   "pygments_lexer": "ipython3",
   "version": "3.11.2"
  }
 },
 "nbformat": 4,
 "nbformat_minor": 5
}
